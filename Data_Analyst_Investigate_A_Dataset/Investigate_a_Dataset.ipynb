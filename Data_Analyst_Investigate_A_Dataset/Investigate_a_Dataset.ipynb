{
 "cells": [
  {
   "cell_type": "markdown",
   "metadata": {},
   "source": [
    "# Project: Investigating a Movie Dataset\n",
    "\n",
    "## Table of Contents\n",
    "<ul>\n",
    "<li><a href=\"#intro\">Introduction</a></li>\n",
    "<li><a href=\"#wrangling\">Data Wrangling</a></li>\n",
    "<li><a href=\"#eda\">Exploratory Data Analysis</a></li>\n",
    "<li><a href=\"#conclusions\">Conclusions</a></li>\n",
    "</ul>"
   ]
  },
  {
   "cell_type": "markdown",
   "metadata": {},
   "source": [
    "<a id='intro'></a>\n",
    "## Introduction\n",
    "This project will investigate The Movie Database (TMDb) to analyise trends in revenue and popularity.\n",
    "\n",
    "### Dataset Description \n",
    "This data set contains information about 10,000 movies collected from The Movie Database (TMDb), including user ratings and revenue.\n",
    "\n",
    "Certain columns, like ‘cast’ and ‘genres’, contain multiple values separated by pipe (|) characters.\n",
    "The final two columns ending with “_adj” show the budget and revenue of the associated movie in terms of 2010 dollars, accounting for inflation over time.\n",
    "\n",
    "\n",
    "### Initial questions for analysis\n",
    "Which genre generates the most revenue?\n",
    "Does popularity equate to a higher revenue?"
   ]
  },
  {
   "cell_type": "code",
   "execution_count": 1,
   "metadata": {},
   "outputs": [],
   "source": [
    "#Import statements for all of the packages to use\n",
    "\n",
    "import numpy as np\n",
    "import pandas as pd\n",
    "import matplotlib.pyplot as plt\n",
    "import seaborn as sns\n",
    "% matplotlib inline\n",
    "\n",
    "#Including the 'magic word' so that visualizations are plotted inline with the notebook\n",
    "#Ref: http://ipython.readthedocs.io/en/stable/interactive/magics.html\n"
   ]
  },
  {
   "cell_type": "code",
   "execution_count": 2,
   "metadata": {},
   "outputs": [],
   "source": [
    "#Upgrade pandas to use dataframe.explode() function. \n",
    "#!pip install --upgrade pandas==0.25.0"
   ]
  },
  {
   "cell_type": "markdown",
   "metadata": {},
   "source": [
    "<a id='wrangling'></a>\n",
    "## Data Wrangling\n",
    "\n",
    "This section of the report, the data will be loaded, checked for cleanliness, then trimed and cleaned for analysis.\n",
    "\n",
    "\n",
    "### General Properties"
   ]
  },
  {
   "cell_type": "code",
   "execution_count": 3,
   "metadata": {
    "scrolled": true
   },
   "outputs": [
    {
     "data": {
      "text/plain": [
       "(10866, 21)"
      ]
     },
     "execution_count": 3,
     "metadata": {},
     "output_type": "execute_result"
    }
   ],
   "source": [
    "# Load data and print out a few lines, and identify its shape\n",
    "df = pd.read_csv('tmdb-movies2.csv')\n",
    "df.shape"
   ]
  },
  {
   "cell_type": "markdown",
   "metadata": {},
   "source": [
    "Rows, Columns"
   ]
  },
  {
   "cell_type": "code",
   "execution_count": 4,
   "metadata": {
    "scrolled": true
   },
   "outputs": [],
   "source": [
    "df.head();"
   ]
  },
  {
   "cell_type": "markdown",
   "metadata": {},
   "source": [
    "ID could be used as the index column - but must first check for duplicates;\n",
    "IMDB_ID, Overeiw, Keywords may be not useful - will remove these columns;\n",
    "Could use homepage column to check if having a website increases popularity\n"
   ]
  },
  {
   "cell_type": "code",
   "execution_count": 5,
   "metadata": {
    "scrolled": false
   },
   "outputs": [
    {
     "name": "stdout",
     "output_type": "stream",
     "text": [
      "<class 'pandas.core.frame.DataFrame'>\n",
      "RangeIndex: 10866 entries, 0 to 10865\n",
      "Data columns (total 21 columns):\n",
      "id                      10866 non-null int64\n",
      "imdb_id                 10856 non-null object\n",
      "popularity              10866 non-null float64\n",
      "budget                  10866 non-null int64\n",
      "revenue                 10866 non-null int64\n",
      "original_title          10866 non-null object\n",
      "cast                    10790 non-null object\n",
      "homepage                2936 non-null object\n",
      "director                10822 non-null object\n",
      "tagline                 8042 non-null object\n",
      "keywords                9373 non-null object\n",
      "overview                10862 non-null object\n",
      "runtime                 10866 non-null int64\n",
      "genres                  10843 non-null object\n",
      "production_companies    9836 non-null object\n",
      "release_date            10866 non-null object\n",
      "vote_count              10866 non-null int64\n",
      "vote_average            10866 non-null float64\n",
      "release_year            10866 non-null int64\n",
      "budget_adj              10866 non-null float64\n",
      "revenue_adj             10866 non-null float64\n",
      "dtypes: float64(4), int64(6), object(11)\n",
      "memory usage: 1.7+ MB\n"
     ]
    }
   ],
   "source": [
    "df.info();"
   ]
  },
  {
   "cell_type": "code",
   "execution_count": 6,
   "metadata": {
    "scrolled": false
   },
   "outputs": [],
   "source": [
    "df.isna().sum();"
   ]
  },
  {
   "cell_type": "markdown",
   "metadata": {},
   "source": [
    "Missing values in imdb_id, cast, homepage, director, tagline, keywords, overview, genres, production companies"
   ]
  },
  {
   "cell_type": "code",
   "execution_count": 7,
   "metadata": {},
   "outputs": [],
   "source": [
    "df.describe();"
   ]
  },
  {
   "cell_type": "markdown",
   "metadata": {},
   "source": [
    "Budget and Revenue may have many 0 values which seems incorrect unless if films are independantly made or do not declare values.\n",
    "\n",
    "Max run time is 900, it may be 90 minutes, min run time can not be 0.\n",
    "\n",
    "Max vote count is 9767, which may be incorect."
   ]
  },
  {
   "cell_type": "markdown",
   "metadata": {},
   "source": [
    "Now let's observe if we can notice any correlation distributions"
   ]
  },
  {
   "cell_type": "code",
   "execution_count": 33,
   "metadata": {
    "scrolled": false
   },
   "outputs": [
    {
     "data": {
      "image/png": "[encoded data removed]",
      "text/plain": [
       "<matplotlib.figure.Figure at 0x7f8b51a4def0>"
      ]
     },
     "metadata": {
      "needs_background": "light"
     },
     "output_type": "display_data"
    }
   ],
   "source": [
    "corrmat = df.corr()\n",
    "f, ax = plt.subplots(figsize =(9, 8))\n",
    "sns.heatmap(corrmat, vmax=.3, center=0,\n",
    "            square=True, linewidths=.5, cbar_kws={\"shrink\": .5});\n",
    "#sns.heatmap(corrmat, ax = ax, cmap =\"YlGnBu\", linewidths = 0.1)"
   ]
  },
  {
   "cell_type": "markdown",
   "metadata": {},
   "source": [
    "Can see numerous corelations such as a correlation between adjusted budgets and revenues."
   ]
  },
  {
   "cell_type": "markdown",
   "metadata": {},
   "source": [
    "\n",
    "### Data Cleaning\n",
    " "
   ]
  },
  {
   "cell_type": "markdown",
   "metadata": {},
   "source": [
    "First check for duplicates"
   ]
  },
  {
   "cell_type": "code",
   "execution_count": 9,
   "metadata": {},
   "outputs": [],
   "source": [
    "df.duplicated().sum();"
   ]
  },
  {
   "cell_type": "code",
   "execution_count": 10,
   "metadata": {},
   "outputs": [],
   "source": [
    "df.drop_duplicates(inplace=True)"
   ]
  },
  {
   "cell_type": "code",
   "execution_count": 11,
   "metadata": {},
   "outputs": [
    {
     "data": {
      "text/plain": [
       "(10865, 21)"
      ]
     },
     "execution_count": 11,
     "metadata": {},
     "output_type": "execute_result"
    }
   ],
   "source": [
    "df.shape"
   ]
  },
  {
   "cell_type": "markdown",
   "metadata": {},
   "source": [
    "One duplicate replaced"
   ]
  },
  {
   "cell_type": "markdown",
   "metadata": {},
   "source": [
    "Drop Columns not needed and set ID as the index column.\n",
    "\n",
    "Dropped revenue and budget columns as their adjusted values will be used in analysis."
   ]
  },
  {
   "cell_type": "code",
   "execution_count": 12,
   "metadata": {
    "scrolled": true
   },
   "outputs": [],
   "source": [
    "df = df.drop([\"imdb_id\", \"director\", \"keywords\", \"overview\", \"tagline\", \"homepage\", \"production_companies\", \"cast\", \"budget\", \"revenue\"], axis=1)"
   ]
  },
  {
   "cell_type": "code",
   "execution_count": 13,
   "metadata": {},
   "outputs": [],
   "source": [
    "df = df.set_index('id')"
   ]
  },
  {
   "cell_type": "markdown",
   "metadata": {},
   "source": [
    "Lets see cleaned data"
   ]
  },
  {
   "cell_type": "code",
   "execution_count": 14,
   "metadata": {
    "scrolled": true
   },
   "outputs": [
    {
     "data": {
      "text/html": [
       "<div>\n",
       "<style scoped>\n",
       "    .dataframe tbody tr th:only-of-type {\n",
       "        vertical-align: middle;\n",
       "    }\n",
       "\n",
       "    .dataframe tbody tr th {\n",
       "        vertical-align: top;\n",
       "    }\n",
       "\n",
       "    .dataframe thead th {\n",
       "        text-align: right;\n",
       "    }\n",
       "</style>\n",
       "<table border=\"1\" class=\"dataframe\">\n",
       "  <thead>\n",
       "    <tr style=\"text-align: right;\">\n",
       "      <th></th>\n",
       "      <th>popularity</th>\n",
       "      <th>original_title</th>\n",
       "      <th>runtime</th>\n",
       "      <th>genres</th>\n",
       "      <th>release_date</th>\n",
       "      <th>vote_count</th>\n",
       "      <th>vote_average</th>\n",
       "      <th>release_year</th>\n",
       "      <th>budget_adj</th>\n",
       "      <th>revenue_adj</th>\n",
       "    </tr>\n",
       "    <tr>\n",
       "      <th>id</th>\n",
       "      <th></th>\n",
       "      <th></th>\n",
       "      <th></th>\n",
       "      <th></th>\n",
       "      <th></th>\n",
       "      <th></th>\n",
       "      <th></th>\n",
       "      <th></th>\n",
       "      <th></th>\n",
       "      <th></th>\n",
       "    </tr>\n",
       "  </thead>\n",
       "  <tbody>\n",
       "    <tr>\n",
       "      <th>21</th>\n",
       "      <td>0.080598</td>\n",
       "      <td>The Endless Summer</td>\n",
       "      <td>95</td>\n",
       "      <td>Documentary</td>\n",
       "      <td>6/15/66</td>\n",
       "      <td>11</td>\n",
       "      <td>7.4</td>\n",
       "      <td>1966</td>\n",
       "      <td>0.000000</td>\n",
       "      <td>0.0</td>\n",
       "    </tr>\n",
       "    <tr>\n",
       "      <th>20379</th>\n",
       "      <td>0.065543</td>\n",
       "      <td>Grand Prix</td>\n",
       "      <td>176</td>\n",
       "      <td>Action|Adventure|Drama</td>\n",
       "      <td>12/21/66</td>\n",
       "      <td>20</td>\n",
       "      <td>5.7</td>\n",
       "      <td>1966</td>\n",
       "      <td>0.000000</td>\n",
       "      <td>0.0</td>\n",
       "    </tr>\n",
       "    <tr>\n",
       "      <th>39768</th>\n",
       "      <td>0.065141</td>\n",
       "      <td>Beregis Avtomobilya</td>\n",
       "      <td>94</td>\n",
       "      <td>Mystery|Comedy</td>\n",
       "      <td>1/1/66</td>\n",
       "      <td>11</td>\n",
       "      <td>6.5</td>\n",
       "      <td>1966</td>\n",
       "      <td>0.000000</td>\n",
       "      <td>0.0</td>\n",
       "    </tr>\n",
       "    <tr>\n",
       "      <th>21449</th>\n",
       "      <td>0.064317</td>\n",
       "      <td>What's Up, Tiger Lily?</td>\n",
       "      <td>80</td>\n",
       "      <td>Action|Comedy</td>\n",
       "      <td>11/2/66</td>\n",
       "      <td>22</td>\n",
       "      <td>5.4</td>\n",
       "      <td>1966</td>\n",
       "      <td>0.000000</td>\n",
       "      <td>0.0</td>\n",
       "    </tr>\n",
       "    <tr>\n",
       "      <th>22293</th>\n",
       "      <td>0.035919</td>\n",
       "      <td>Manos: The Hands of Fate</td>\n",
       "      <td>74</td>\n",
       "      <td>Horror</td>\n",
       "      <td>11/15/66</td>\n",
       "      <td>15</td>\n",
       "      <td>1.5</td>\n",
       "      <td>1966</td>\n",
       "      <td>127642.279154</td>\n",
       "      <td>0.0</td>\n",
       "    </tr>\n",
       "  </tbody>\n",
       "</table>\n",
       "</div>"
      ],
      "text/plain": [
       "       popularity            original_title  runtime                  genres  \\\n",
       "id                                                                             \n",
       "21       0.080598        The Endless Summer       95             Documentary   \n",
       "20379    0.065543                Grand Prix      176  Action|Adventure|Drama   \n",
       "39768    0.065141       Beregis Avtomobilya       94          Mystery|Comedy   \n",
       "21449    0.064317    What's Up, Tiger Lily?       80           Action|Comedy   \n",
       "22293    0.035919  Manos: The Hands of Fate       74                  Horror   \n",
       "\n",
       "      release_date  vote_count  vote_average  release_year     budget_adj  \\\n",
       "id                                                                          \n",
       "21         6/15/66          11           7.4          1966       0.000000   \n",
       "20379     12/21/66          20           5.7          1966       0.000000   \n",
       "39768       1/1/66          11           6.5          1966       0.000000   \n",
       "21449      11/2/66          22           5.4          1966       0.000000   \n",
       "22293     11/15/66          15           1.5          1966  127642.279154   \n",
       "\n",
       "       revenue_adj  \n",
       "id                  \n",
       "21             0.0  \n",
       "20379          0.0  \n",
       "39768          0.0  \n",
       "21449          0.0  \n",
       "22293          0.0  "
      ]
     },
     "execution_count": 14,
     "metadata": {},
     "output_type": "execute_result"
    }
   ],
   "source": [
    "df.tail()"
   ]
  },
  {
   "cell_type": "markdown",
   "metadata": {},
   "source": [
    "Let's explore the data to check for \"dirty\" data. General histogram to see the data."
   ]
  },
  {
   "cell_type": "code",
   "execution_count": 15,
   "metadata": {
    "scrolled": false
   },
   "outputs": [
    {
     "data": {
      "image/png": "[encoded data removed]",
      "text/plain": [
       "<matplotlib.figure.Figure at 0x7f8b516594a8>"
      ]
     },
     "metadata": {
      "needs_background": "light"
     },
     "output_type": "display_data"
    }
   ],
   "source": [
    "df.hist(figsize=(13,10));"
   ]
  },
  {
   "cell_type": "markdown",
   "metadata": {},
   "source": [
    "Can be seen that more films are being released more recently"
   ]
  },
  {
   "cell_type": "code",
   "execution_count": 16,
   "metadata": {
    "scrolled": false
   },
   "outputs": [
    {
     "data": {
      "image/png": "[encoded data removed]",
      "text/plain": [
       "<matplotlib.figure.Figure at 0x7f8b517d1c18>"
      ]
     },
     "metadata": {
      "needs_background": "light"
     },
     "output_type": "display_data"
    }
   ],
   "source": [
    "df[df.genres.isnull()].hist(figsize=(13,10));"
   ]
  },
  {
   "cell_type": "markdown",
   "metadata": {},
   "source": [
    "Null values match the average shape of the data set, just slightly less popular as they have lower vote counts\n",
    "\n",
    "Movies without a defined genre seem to be smaller indie films that generate lower revenue.\n",
    "\n",
    "Worth keeping these rows for numerical analysis."
   ]
  },
  {
   "cell_type": "markdown",
   "metadata": {},
   "source": [
    "Set missing genres to Unknown then check to ensure there are no missing values"
   ]
  },
  {
   "cell_type": "code",
   "execution_count": 17,
   "metadata": {},
   "outputs": [
    {
     "data": {
      "text/plain": [
       "0"
      ]
     },
     "execution_count": 17,
     "metadata": {},
     "output_type": "execute_result"
    }
   ],
   "source": [
    "df['genres'] = df['genres'].fillna(\"Unknown\")\n",
    "df['genres'].isna().sum()"
   ]
  },
  {
   "cell_type": "markdown",
   "metadata": {},
   "source": [
    "Lets check to see how many 0 values we have."
   ]
  },
  {
   "cell_type": "code",
   "execution_count": 18,
   "metadata": {},
   "outputs": [
    {
     "data": {
      "text/plain": [
       "(6016, 10)"
      ]
     },
     "execution_count": 18,
     "metadata": {},
     "output_type": "execute_result"
    }
   ],
   "source": [
    "df.query(\"(revenue_adj == 0)\").shape"
   ]
  },
  {
   "cell_type": "code",
   "execution_count": 19,
   "metadata": {},
   "outputs": [
    {
     "data": {
      "text/plain": [
       "(0, 10)"
      ]
     },
     "execution_count": 19,
     "metadata": {},
     "output_type": "execute_result"
    }
   ],
   "source": [
    "df.query(\"(vote_average == 0)\").shape"
   ]
  },
  {
   "cell_type": "code",
   "execution_count": 20,
   "metadata": {},
   "outputs": [
    {
     "data": {
      "text/plain": [
       "(31, 10)"
      ]
     },
     "execution_count": 20,
     "metadata": {},
     "output_type": "execute_result"
    }
   ],
   "source": [
    "df.query(\"(runtime == 0)\").shape"
   ]
  },
  {
   "cell_type": "markdown",
   "metadata": {},
   "source": [
    "There are a lot of values with zero revenue, let's remove these potential outliers"
   ]
  },
  {
   "cell_type": "code",
   "execution_count": 21,
   "metadata": {},
   "outputs": [],
   "source": [
    "df = df[df['revenue_adj'] > 1]\n",
    "df = df[df['budget_adj'] > 1]\n",
    "#df_n_zero = df[df['vote_average'] > 0.5]"
   ]
  },
  {
   "cell_type": "markdown",
   "metadata": {},
   "source": [
    "Check to see if removed, let's make sure we have no movies with 0 runtime"
   ]
  },
  {
   "cell_type": "code",
   "execution_count": 22,
   "metadata": {
    "scrolled": true
   },
   "outputs": [
    {
     "data": {
      "text/plain": [
       "(0, 10)"
      ]
     },
     "execution_count": 22,
     "metadata": {},
     "output_type": "execute_result"
    }
   ],
   "source": [
    "df.query(\"(revenue_adj == 0)\").shape"
   ]
  },
  {
   "cell_type": "code",
   "execution_count": 23,
   "metadata": {
    "scrolled": true
   },
   "outputs": [
    {
     "data": {
      "text/plain": [
       "(0, 10)"
      ]
     },
     "execution_count": 23,
     "metadata": {},
     "output_type": "execute_result"
    }
   ],
   "source": [
    "df.query(\"(runtime == 0)\").shape"
   ]
  },
  {
   "cell_type": "markdown",
   "metadata": {},
   "source": [
    "- All runtimes of 0 had 0 revenue\n",
    "\n",
    "- Now using describe again to see the changes from before - data quality has improved"
   ]
  },
  {
   "cell_type": "code",
   "execution_count": 24,
   "metadata": {},
   "outputs": [
    {
     "data": {
      "text/html": [
       "<div>\n",
       "<style scoped>\n",
       "    .dataframe tbody tr th:only-of-type {\n",
       "        vertical-align: middle;\n",
       "    }\n",
       "\n",
       "    .dataframe tbody tr th {\n",
       "        vertical-align: top;\n",
       "    }\n",
       "\n",
       "    .dataframe thead th {\n",
       "        text-align: right;\n",
       "    }\n",
       "</style>\n",
       "<table border=\"1\" class=\"dataframe\">\n",
       "  <thead>\n",
       "    <tr style=\"text-align: right;\">\n",
       "      <th></th>\n",
       "      <th>popularity</th>\n",
       "      <th>runtime</th>\n",
       "      <th>vote_count</th>\n",
       "      <th>vote_average</th>\n",
       "      <th>release_year</th>\n",
       "      <th>budget_adj</th>\n",
       "      <th>revenue_adj</th>\n",
       "    </tr>\n",
       "  </thead>\n",
       "  <tbody>\n",
       "    <tr>\n",
       "      <th>count</th>\n",
       "      <td>3853.000000</td>\n",
       "      <td>3853.000000</td>\n",
       "      <td>3853.000000</td>\n",
       "      <td>3853.000000</td>\n",
       "      <td>3853.000000</td>\n",
       "      <td>3.853000e+03</td>\n",
       "      <td>3.853000e+03</td>\n",
       "    </tr>\n",
       "    <tr>\n",
       "      <th>mean</th>\n",
       "      <td>1.191728</td>\n",
       "      <td>109.225279</td>\n",
       "      <td>527.842979</td>\n",
       "      <td>6.168388</td>\n",
       "      <td>2001.258500</td>\n",
       "      <td>4.425148e+07</td>\n",
       "      <td>1.371003e+08</td>\n",
       "    </tr>\n",
       "    <tr>\n",
       "      <th>std</th>\n",
       "      <td>1.475314</td>\n",
       "      <td>19.922999</td>\n",
       "      <td>880.038066</td>\n",
       "      <td>0.794900</td>\n",
       "      <td>11.282948</td>\n",
       "      <td>4.480940e+07</td>\n",
       "      <td>2.161281e+08</td>\n",
       "    </tr>\n",
       "    <tr>\n",
       "      <th>min</th>\n",
       "      <td>0.001117</td>\n",
       "      <td>15.000000</td>\n",
       "      <td>10.000000</td>\n",
       "      <td>2.200000</td>\n",
       "      <td>1960.000000</td>\n",
       "      <td>1.309053e+00</td>\n",
       "      <td>2.370705e+00</td>\n",
       "    </tr>\n",
       "    <tr>\n",
       "      <th>25%</th>\n",
       "      <td>0.462287</td>\n",
       "      <td>95.000000</td>\n",
       "      <td>71.000000</td>\n",
       "      <td>5.700000</td>\n",
       "      <td>1995.000000</td>\n",
       "      <td>1.309053e+07</td>\n",
       "      <td>1.840420e+07</td>\n",
       "    </tr>\n",
       "    <tr>\n",
       "      <th>50%</th>\n",
       "      <td>0.797723</td>\n",
       "      <td>106.000000</td>\n",
       "      <td>204.000000</td>\n",
       "      <td>6.200000</td>\n",
       "      <td>2004.000000</td>\n",
       "      <td>3.001664e+07</td>\n",
       "      <td>6.174274e+07</td>\n",
       "    </tr>\n",
       "    <tr>\n",
       "      <th>75%</th>\n",
       "      <td>1.368403</td>\n",
       "      <td>119.000000</td>\n",
       "      <td>580.000000</td>\n",
       "      <td>6.700000</td>\n",
       "      <td>2010.000000</td>\n",
       "      <td>6.061307e+07</td>\n",
       "      <td>1.632752e+08</td>\n",
       "    </tr>\n",
       "    <tr>\n",
       "      <th>max</th>\n",
       "      <td>32.985763</td>\n",
       "      <td>338.000000</td>\n",
       "      <td>9767.000000</td>\n",
       "      <td>8.400000</td>\n",
       "      <td>2015.000000</td>\n",
       "      <td>4.250000e+08</td>\n",
       "      <td>2.827124e+09</td>\n",
       "    </tr>\n",
       "  </tbody>\n",
       "</table>\n",
       "</div>"
      ],
      "text/plain": [
       "        popularity      runtime   vote_count  vote_average  release_year  \\\n",
       "count  3853.000000  3853.000000  3853.000000   3853.000000   3853.000000   \n",
       "mean      1.191728   109.225279   527.842979      6.168388   2001.258500   \n",
       "std       1.475314    19.922999   880.038066      0.794900     11.282948   \n",
       "min       0.001117    15.000000    10.000000      2.200000   1960.000000   \n",
       "25%       0.462287    95.000000    71.000000      5.700000   1995.000000   \n",
       "50%       0.797723   106.000000   204.000000      6.200000   2004.000000   \n",
       "75%       1.368403   119.000000   580.000000      6.700000   2010.000000   \n",
       "max      32.985763   338.000000  9767.000000      8.400000   2015.000000   \n",
       "\n",
       "         budget_adj   revenue_adj  \n",
       "count  3.853000e+03  3.853000e+03  \n",
       "mean   4.425148e+07  1.371003e+08  \n",
       "std    4.480940e+07  2.161281e+08  \n",
       "min    1.309053e+00  2.370705e+00  \n",
       "25%    1.309053e+07  1.840420e+07  \n",
       "50%    3.001664e+07  6.174274e+07  \n",
       "75%    6.061307e+07  1.632752e+08  \n",
       "max    4.250000e+08  2.827124e+09  "
      ]
     },
     "execution_count": 24,
     "metadata": {},
     "output_type": "execute_result"
    }
   ],
   "source": [
    "df.describe()"
   ]
  },
  {
   "cell_type": "markdown",
   "metadata": {},
   "source": [
    "<a id='eda'></a>\n",
    "## Exploratory Data Analysis\n",
    "\n",
    "Now that the data is cleaned we can explore trends. This section is broken into 2 questions which will analyse the trends.\n",
    "\n",
    "\n",
    "### Question 1: Does popularity equate to higher adjusted revenue"
   ]
  },
  {
   "cell_type": "markdown",
   "metadata": {},
   "source": [
    "First a function is defined to help minimise the code spent writing out equations for plotting grapghs"
   ]
  },
  {
   "cell_type": "code",
   "execution_count": 35,
   "metadata": {},
   "outputs": [],
   "source": [
    "def plot_scatter(df, x_variable, y_variable, title=None, xlim=None, x_label=None, y_label=None,):\n",
    "    fig, ax = plt.subplots()\n",
    "    sns.regplot(x=df[x_variable], y=df[y_variable], ci=95, scatter_kws={\"color\": \"black\"}, line_kws={\"color\": \"red\"}, ax=ax)\n",
    "    ax.set_xlim(xlim) #(0, 10)\n",
    "    ax.set_title(title)\n",
    "    if x_label is not None:\n",
    "        ax.set_xlabel(x_label)\n",
    "    if y_label is not None:\n",
    "        ax.set_ylabel(y_label)\n",
    "    #ax.set_ylabel(y_label)"
   ]
  },
  {
   "cell_type": "markdown",
   "metadata": {},
   "source": [
    "Let's plot a graph of revenue vs popularity to see if there's any correlation"
   ]
  },
  {
   "cell_type": "code",
   "execution_count": 52,
   "metadata": {},
   "outputs": [
    {
     "data": {
      "image/png": "[encoded data removed]",
      "text/plain": [
       "<matplotlib.figure.Figure at 0x7f8b51438a90>"
      ]
     },
     "metadata": {
      "needs_background": "light"
     },
     "output_type": "display_data"
    }
   ],
   "source": [
    "plot_scatter(df,  y_variable='revenue_adj', x_variable='popularity', xlim=(0,35), x_label=\"Popularity\", y_label=\"Adjusted Revenue\", title=\"Graph to show data correlation between adjusted revenue and popularity of movies\")"
   ]
  },
  {
   "cell_type": "markdown",
   "metadata": {},
   "source": [
    "Can clearly see a positive correlation, but can we plot the data so the points are more clearer? Perhaps seting a x axis limit to a smaller value to see the plot better. A 0<p<10 range is used"
   ]
  },
  {
   "cell_type": "code",
   "execution_count": 51,
   "metadata": {},
   "outputs": [
    {
     "data": {
      "image/png": "[encoded data removed]",
      "text/plain": [
       "<matplotlib.figure.Figure at 0x7f8b514cd278>"
      ]
     },
     "metadata": {
      "needs_background": "light"
     },
     "output_type": "display_data"
    }
   ],
   "source": [
    "plot_scatter(df,  y_variable='revenue_adj', x_variable='popularity', xlim=(0,10), x_label=\"Popularity\", y_label=\"Adjusted Revenue\", title=\"Graph to show data correlation between adjusted revenue and popularity of movies\")"
   ]
  },
  {
   "cell_type": "markdown",
   "metadata": {},
   "source": [
    "The correlation is clear to see, check to see if there is a possible relationship with the square root of revenue with popularity."
   ]
  },
  {
   "cell_type": "code",
   "execution_count": 42,
   "metadata": {
    "scrolled": true
   },
   "outputs": [],
   "source": [
    "df['rev_adj_root'] = np.sqrt(df['revenue_adj'])\n"
   ]
  },
  {
   "cell_type": "code",
   "execution_count": 45,
   "metadata": {},
   "outputs": [
    {
     "data": {
      "image/png": "[encoded data removed]",
      "text/plain": [
       "<matplotlib.figure.Figure at 0x7f8b51787668>"
      ]
     },
     "metadata": {
      "needs_background": "light"
     },
     "output_type": "display_data"
    }
   ],
   "source": [
    "plot_scatter(df,  y_variable='rev_adj_root', x_variable='popularity', xlim=(0,10), x_label=\"Popularity\", title=\"Graph to show data correlation between the square root of adjusted revenue and popularity of movies\")"
   ]
  },
  {
   "cell_type": "markdown",
   "metadata": {},
   "source": [
    "Results were very similar, lets use a statistical correlation function to verify."
   ]
  },
  {
   "cell_type": "code",
   "execution_count": 50,
   "metadata": {
    "scrolled": false
   },
   "outputs": [
    {
     "data": {
      "text/html": [
       "<div>\n",
       "<style scoped>\n",
       "    .dataframe tbody tr th:only-of-type {\n",
       "        vertical-align: middle;\n",
       "    }\n",
       "\n",
       "    .dataframe tbody tr th {\n",
       "        vertical-align: top;\n",
       "    }\n",
       "\n",
       "    .dataframe thead th {\n",
       "        text-align: right;\n",
       "    }\n",
       "</style>\n",
       "<table border=\"1\" class=\"dataframe\">\n",
       "  <thead>\n",
       "    <tr style=\"text-align: right;\">\n",
       "      <th></th>\n",
       "      <th>popularity</th>\n",
       "      <th>runtime</th>\n",
       "      <th>vote_count</th>\n",
       "      <th>vote_average</th>\n",
       "      <th>release_year</th>\n",
       "      <th>budget_adj</th>\n",
       "      <th>revenue_adj</th>\n",
       "      <th>rev_adj_root</th>\n",
       "    </tr>\n",
       "  </thead>\n",
       "  <tbody>\n",
       "    <tr>\n",
       "      <th>popularity</th>\n",
       "      <td>1.000000</td>\n",
       "      <td>0.215010</td>\n",
       "      <td>0.780082</td>\n",
       "      <td>0.317795</td>\n",
       "      <td>0.173401</td>\n",
       "      <td>0.399300</td>\n",
       "      <td>0.546928</td>\n",
       "      <td>0.537437</td>\n",
       "    </tr>\n",
       "    <tr>\n",
       "      <th>runtime</th>\n",
       "      <td>0.215010</td>\n",
       "      <td>1.000000</td>\n",
       "      <td>0.273679</td>\n",
       "      <td>0.351535</td>\n",
       "      <td>-0.112262</td>\n",
       "      <td>0.333811</td>\n",
       "      <td>0.280394</td>\n",
       "      <td>0.302295</td>\n",
       "    </tr>\n",
       "    <tr>\n",
       "      <th>vote_count</th>\n",
       "      <td>0.780082</td>\n",
       "      <td>0.273679</td>\n",
       "      <td>1.000000</td>\n",
       "      <td>0.387132</td>\n",
       "      <td>0.207339</td>\n",
       "      <td>0.497914</td>\n",
       "      <td>0.654658</td>\n",
       "      <td>0.636141</td>\n",
       "    </tr>\n",
       "    <tr>\n",
       "      <th>vote_average</th>\n",
       "      <td>0.317795</td>\n",
       "      <td>0.351535</td>\n",
       "      <td>0.387132</td>\n",
       "      <td>1.000000</td>\n",
       "      <td>-0.134035</td>\n",
       "      <td>0.036533</td>\n",
       "      <td>0.266720</td>\n",
       "      <td>0.283302</td>\n",
       "    </tr>\n",
       "    <tr>\n",
       "      <th>release_year</th>\n",
       "      <td>0.173401</td>\n",
       "      <td>-0.112262</td>\n",
       "      <td>0.207339</td>\n",
       "      <td>-0.134035</td>\n",
       "      <td>1.000000</td>\n",
       "      <td>0.075341</td>\n",
       "      <td>-0.103020</td>\n",
       "      <td>-0.131462</td>\n",
       "    </tr>\n",
       "    <tr>\n",
       "      <th>budget_adj</th>\n",
       "      <td>0.399300</td>\n",
       "      <td>0.333811</td>\n",
       "      <td>0.497914</td>\n",
       "      <td>0.036533</td>\n",
       "      <td>0.075341</td>\n",
       "      <td>1.000000</td>\n",
       "      <td>0.570390</td>\n",
       "      <td>0.638755</td>\n",
       "    </tr>\n",
       "    <tr>\n",
       "      <th>revenue_adj</th>\n",
       "      <td>0.546928</td>\n",
       "      <td>0.280394</td>\n",
       "      <td>0.654658</td>\n",
       "      <td>0.266720</td>\n",
       "      <td>-0.103020</td>\n",
       "      <td>0.570390</td>\n",
       "      <td>1.000000</td>\n",
       "      <td>0.922855</td>\n",
       "    </tr>\n",
       "    <tr>\n",
       "      <th>rev_adj_root</th>\n",
       "      <td>0.537437</td>\n",
       "      <td>0.302295</td>\n",
       "      <td>0.636141</td>\n",
       "      <td>0.283302</td>\n",
       "      <td>-0.131462</td>\n",
       "      <td>0.638755</td>\n",
       "      <td>0.922855</td>\n",
       "      <td>1.000000</td>\n",
       "    </tr>\n",
       "  </tbody>\n",
       "</table>\n",
       "</div>"
      ],
      "text/plain": [
       "              popularity   runtime  vote_count  vote_average  release_year  \\\n",
       "popularity      1.000000  0.215010    0.780082      0.317795      0.173401   \n",
       "runtime         0.215010  1.000000    0.273679      0.351535     -0.112262   \n",
       "vote_count      0.780082  0.273679    1.000000      0.387132      0.207339   \n",
       "vote_average    0.317795  0.351535    0.387132      1.000000     -0.134035   \n",
       "release_year    0.173401 -0.112262    0.207339     -0.134035      1.000000   \n",
       "budget_adj      0.399300  0.333811    0.497914      0.036533      0.075341   \n",
       "revenue_adj     0.546928  0.280394    0.654658      0.266720     -0.103020   \n",
       "rev_adj_root    0.537437  0.302295    0.636141      0.283302     -0.131462   \n",
       "\n",
       "              budget_adj  revenue_adj  rev_adj_root  \n",
       "popularity      0.399300     0.546928      0.537437  \n",
       "runtime         0.333811     0.280394      0.302295  \n",
       "vote_count      0.497914     0.654658      0.636141  \n",
       "vote_average    0.036533     0.266720      0.283302  \n",
       "release_year    0.075341    -0.103020     -0.131462  \n",
       "budget_adj      1.000000     0.570390      0.638755  \n",
       "revenue_adj     0.570390     1.000000      0.922855  \n",
       "rev_adj_root    0.638755     0.922855      1.000000  "
      ]
     },
     "execution_count": 50,
     "metadata": {},
     "output_type": "execute_result"
    }
   ],
   "source": [
    "df.corr()"
   ]
  },
  {
   "cell_type": "markdown",
   "metadata": {},
   "source": [
    "Correlation of poularity with adjusted revenue and the root of adjusted revenue are very similar, so it did not improve the correlation of the results.\n",
    "Correlation is 0.547 with adjusted revenue. A slightly weaker correlation but still shows films that are more popular tend to generate higher revenue."
   ]
  },
  {
   "cell_type": "markdown",
   "metadata": {},
   "source": [
    "### Question 2: Which genre generates the most revenue"
   ]
  },
  {
   "cell_type": "markdown",
   "metadata": {},
   "source": [
    "First lets see how the data is formatted, group by"
   ]
  },
  {
   "cell_type": "code",
   "execution_count": 53,
   "metadata": {
    "scrolled": true
   },
   "outputs": [],
   "source": [
    "df.groupby('genres')['revenue_adj'].sum();\n"
   ]
  },
  {
   "cell_type": "markdown",
   "metadata": {},
   "source": [
    "Data is seperated by \"|\", need to clean data first"
   ]
  },
  {
   "cell_type": "code",
   "execution_count": 54,
   "metadata": {},
   "outputs": [],
   "source": [
    "#g = ['Action', 'Adventure', 'Comedy', 'Crime, Drama', 'Family, Fantasy', 'Science Fiction', 'Thriller']"
   ]
  },
  {
   "cell_type": "code",
   "execution_count": 55,
   "metadata": {},
   "outputs": [],
   "source": [
    "#for g in df['genres']:\n",
    "   #df[g] = g in df['genres'].str.split('|')\n",
    "    #This will take too long, need an alternative"
   ]
  },
  {
   "cell_type": "markdown",
   "metadata": {},
   "source": [
    "Explode function can solve this issue but will create multiple extra columns, hence need to average the values.\n",
    "Create a new df so old one stays intact"
   ]
  },
  {
   "cell_type": "code",
   "execution_count": 58,
   "metadata": {},
   "outputs": [
    {
     "name": "stdout",
     "output_type": "stream",
     "text": [
      "Requirement already up-to-date: pandas==0.25.0 in /opt/conda/lib/python3.6/site-packages (0.25.0)\n",
      "Requirement already satisfied, skipping upgrade: python-dateutil>=2.6.1 in /opt/conda/lib/python3.6/site-packages (from pandas==0.25.0) (2.6.1)\n",
      "Requirement already satisfied, skipping upgrade: numpy>=1.13.3 in /opt/conda/lib/python3.6/site-packages (from pandas==0.25.0) (1.19.5)\n",
      "Requirement already satisfied, skipping upgrade: pytz>=2017.2 in /opt/conda/lib/python3.6/site-packages (from pandas==0.25.0) (2017.3)\n",
      "Requirement already satisfied, skipping upgrade: six>=1.5 in /opt/conda/lib/python3.6/site-packages (from python-dateutil>=2.6.1->pandas==0.25.0) (1.11.0)\n"
     ]
    }
   ],
   "source": [
    "#Upgrade pandas to use dataframe.explode() function. \n",
    "!pip install --upgrade pandas==0.25.0"
   ]
  },
  {
   "cell_type": "code",
   "execution_count": 59,
   "metadata": {},
   "outputs": [],
   "source": [
    "df1 = df.assign(genres=df.genres.str.split('|'))"
   ]
  },
  {
   "cell_type": "code",
   "execution_count": 60,
   "metadata": {},
   "outputs": [
    {
     "data": {
      "text/html": [
       "<div>\n",
       "<style scoped>\n",
       "    .dataframe tbody tr th:only-of-type {\n",
       "        vertical-align: middle;\n",
       "    }\n",
       "\n",
       "    .dataframe tbody tr th {\n",
       "        vertical-align: top;\n",
       "    }\n",
       "\n",
       "    .dataframe thead th {\n",
       "        text-align: right;\n",
       "    }\n",
       "</style>\n",
       "<table border=\"1\" class=\"dataframe\">\n",
       "  <thead>\n",
       "    <tr style=\"text-align: right;\">\n",
       "      <th></th>\n",
       "      <th>popularity</th>\n",
       "      <th>original_title</th>\n",
       "      <th>runtime</th>\n",
       "      <th>genres</th>\n",
       "      <th>release_date</th>\n",
       "      <th>vote_count</th>\n",
       "      <th>vote_average</th>\n",
       "      <th>release_year</th>\n",
       "      <th>budget_adj</th>\n",
       "      <th>revenue_adj</th>\n",
       "      <th>rev_adj_root</th>\n",
       "    </tr>\n",
       "    <tr>\n",
       "      <th>id</th>\n",
       "      <th></th>\n",
       "      <th></th>\n",
       "      <th></th>\n",
       "      <th></th>\n",
       "      <th></th>\n",
       "      <th></th>\n",
       "      <th></th>\n",
       "      <th></th>\n",
       "      <th></th>\n",
       "      <th></th>\n",
       "      <th></th>\n",
       "    </tr>\n",
       "  </thead>\n",
       "  <tbody>\n",
       "    <tr>\n",
       "      <th>135397</th>\n",
       "      <td>32.985763</td>\n",
       "      <td>Jurassic World</td>\n",
       "      <td>124</td>\n",
       "      <td>[Action, Adventure, Science Fiction, Thriller]</td>\n",
       "      <td>6/9/15</td>\n",
       "      <td>5562</td>\n",
       "      <td>6.5</td>\n",
       "      <td>2015</td>\n",
       "      <td>1.379999e+08</td>\n",
       "      <td>1.392446e+09</td>\n",
       "      <td>37315.491321</td>\n",
       "    </tr>\n",
       "    <tr>\n",
       "      <th>76341</th>\n",
       "      <td>28.419936</td>\n",
       "      <td>Mad Max: Fury Road</td>\n",
       "      <td>120</td>\n",
       "      <td>[Action, Adventure, Science Fiction, Thriller]</td>\n",
       "      <td>5/13/15</td>\n",
       "      <td>6185</td>\n",
       "      <td>7.1</td>\n",
       "      <td>2015</td>\n",
       "      <td>1.379999e+08</td>\n",
       "      <td>3.481613e+08</td>\n",
       "      <td>18659.080698</td>\n",
       "    </tr>\n",
       "    <tr>\n",
       "      <th>262500</th>\n",
       "      <td>13.112507</td>\n",
       "      <td>Insurgent</td>\n",
       "      <td>119</td>\n",
       "      <td>[Adventure, Science Fiction, Thriller]</td>\n",
       "      <td>3/18/15</td>\n",
       "      <td>2480</td>\n",
       "      <td>6.3</td>\n",
       "      <td>2015</td>\n",
       "      <td>1.012000e+08</td>\n",
       "      <td>2.716190e+08</td>\n",
       "      <td>16480.868466</td>\n",
       "    </tr>\n",
       "    <tr>\n",
       "      <th>140607</th>\n",
       "      <td>11.173104</td>\n",
       "      <td>Star Wars: The Force Awakens</td>\n",
       "      <td>136</td>\n",
       "      <td>[Action, Adventure, Science Fiction, Fantasy]</td>\n",
       "      <td>12/15/15</td>\n",
       "      <td>5292</td>\n",
       "      <td>7.5</td>\n",
       "      <td>2015</td>\n",
       "      <td>1.839999e+08</td>\n",
       "      <td>1.902723e+09</td>\n",
       "      <td>43620.214692</td>\n",
       "    </tr>\n",
       "    <tr>\n",
       "      <th>168259</th>\n",
       "      <td>9.335014</td>\n",
       "      <td>Furious 7</td>\n",
       "      <td>137</td>\n",
       "      <td>[Action, Crime, Thriller]</td>\n",
       "      <td>4/1/15</td>\n",
       "      <td>2947</td>\n",
       "      <td>7.3</td>\n",
       "      <td>2015</td>\n",
       "      <td>1.747999e+08</td>\n",
       "      <td>1.385749e+09</td>\n",
       "      <td>37225.647093</td>\n",
       "    </tr>\n",
       "  </tbody>\n",
       "</table>\n",
       "</div>"
      ],
      "text/plain": [
       "        popularity                original_title  runtime  \\\n",
       "id                                                          \n",
       "135397   32.985763                Jurassic World      124   \n",
       "76341    28.419936            Mad Max: Fury Road      120   \n",
       "262500   13.112507                     Insurgent      119   \n",
       "140607   11.173104  Star Wars: The Force Awakens      136   \n",
       "168259    9.335014                     Furious 7      137   \n",
       "\n",
       "                                                genres release_date  \\\n",
       "id                                                                    \n",
       "135397  [Action, Adventure, Science Fiction, Thriller]       6/9/15   \n",
       "76341   [Action, Adventure, Science Fiction, Thriller]      5/13/15   \n",
       "262500          [Adventure, Science Fiction, Thriller]      3/18/15   \n",
       "140607   [Action, Adventure, Science Fiction, Fantasy]     12/15/15   \n",
       "168259                       [Action, Crime, Thriller]       4/1/15   \n",
       "\n",
       "        vote_count  vote_average  release_year    budget_adj   revenue_adj  \\\n",
       "id                                                                           \n",
       "135397        5562           6.5          2015  1.379999e+08  1.392446e+09   \n",
       "76341         6185           7.1          2015  1.379999e+08  3.481613e+08   \n",
       "262500        2480           6.3          2015  1.012000e+08  2.716190e+08   \n",
       "140607        5292           7.5          2015  1.839999e+08  1.902723e+09   \n",
       "168259        2947           7.3          2015  1.747999e+08  1.385749e+09   \n",
       "\n",
       "        rev_adj_root  \n",
       "id                    \n",
       "135397  37315.491321  \n",
       "76341   18659.080698  \n",
       "262500  16480.868466  \n",
       "140607  43620.214692  \n",
       "168259  37225.647093  "
      ]
     },
     "execution_count": 60,
     "metadata": {},
     "output_type": "execute_result"
    }
   ],
   "source": [
    "df1.head()"
   ]
  },
  {
   "cell_type": "markdown",
   "metadata": {},
   "source": [
    "Square brackets indicate a list, now seperated by commas, explode function can be used"
   ]
  },
  {
   "cell_type": "code",
   "execution_count": 61,
   "metadata": {},
   "outputs": [
    {
     "data": {
      "text/html": [
       "<div>\n",
       "<style scoped>\n",
       "    .dataframe tbody tr th:only-of-type {\n",
       "        vertical-align: middle;\n",
       "    }\n",
       "\n",
       "    .dataframe tbody tr th {\n",
       "        vertical-align: top;\n",
       "    }\n",
       "\n",
       "    .dataframe thead th {\n",
       "        text-align: right;\n",
       "    }\n",
       "</style>\n",
       "<table border=\"1\" class=\"dataframe\">\n",
       "  <thead>\n",
       "    <tr style=\"text-align: right;\">\n",
       "      <th></th>\n",
       "      <th>popularity</th>\n",
       "      <th>original_title</th>\n",
       "      <th>runtime</th>\n",
       "      <th>genres</th>\n",
       "      <th>release_date</th>\n",
       "      <th>vote_count</th>\n",
       "      <th>vote_average</th>\n",
       "      <th>release_year</th>\n",
       "      <th>budget_adj</th>\n",
       "      <th>revenue_adj</th>\n",
       "      <th>rev_adj_root</th>\n",
       "    </tr>\n",
       "    <tr>\n",
       "      <th>id</th>\n",
       "      <th></th>\n",
       "      <th></th>\n",
       "      <th></th>\n",
       "      <th></th>\n",
       "      <th></th>\n",
       "      <th></th>\n",
       "      <th></th>\n",
       "      <th></th>\n",
       "      <th></th>\n",
       "      <th></th>\n",
       "      <th></th>\n",
       "    </tr>\n",
       "  </thead>\n",
       "  <tbody>\n",
       "    <tr>\n",
       "      <th>5</th>\n",
       "      <td>1.234890</td>\n",
       "      <td>Four Rooms</td>\n",
       "      <td>98</td>\n",
       "      <td>Comedy</td>\n",
       "      <td>12/25/95</td>\n",
       "      <td>293</td>\n",
       "      <td>6.4</td>\n",
       "      <td>1995</td>\n",
       "      <td>5.723867e+06</td>\n",
       "      <td>6.153158e+06</td>\n",
       "      <td>2480.555891</td>\n",
       "    </tr>\n",
       "    <tr>\n",
       "      <th>11</th>\n",
       "      <td>12.037933</td>\n",
       "      <td>Star Wars</td>\n",
       "      <td>121</td>\n",
       "      <td>Adventure</td>\n",
       "      <td>3/20/77</td>\n",
       "      <td>4428</td>\n",
       "      <td>7.9</td>\n",
       "      <td>1977</td>\n",
       "      <td>3.957559e+07</td>\n",
       "      <td>2.789712e+09</td>\n",
       "      <td>52817.726591</td>\n",
       "    </tr>\n",
       "    <tr>\n",
       "      <th>11</th>\n",
       "      <td>12.037933</td>\n",
       "      <td>Star Wars</td>\n",
       "      <td>121</td>\n",
       "      <td>Action</td>\n",
       "      <td>3/20/77</td>\n",
       "      <td>4428</td>\n",
       "      <td>7.9</td>\n",
       "      <td>1977</td>\n",
       "      <td>3.957559e+07</td>\n",
       "      <td>2.789712e+09</td>\n",
       "      <td>52817.726591</td>\n",
       "    </tr>\n",
       "    <tr>\n",
       "      <th>11</th>\n",
       "      <td>12.037933</td>\n",
       "      <td>Star Wars</td>\n",
       "      <td>121</td>\n",
       "      <td>Science Fiction</td>\n",
       "      <td>3/20/77</td>\n",
       "      <td>4428</td>\n",
       "      <td>7.9</td>\n",
       "      <td>1977</td>\n",
       "      <td>3.957559e+07</td>\n",
       "      <td>2.789712e+09</td>\n",
       "      <td>52817.726591</td>\n",
       "    </tr>\n",
       "    <tr>\n",
       "      <th>12</th>\n",
       "      <td>3.440519</td>\n",
       "      <td>Finding Nemo</td>\n",
       "      <td>100</td>\n",
       "      <td>Animation</td>\n",
       "      <td>5/30/03</td>\n",
       "      <td>3692</td>\n",
       "      <td>7.4</td>\n",
       "      <td>2003</td>\n",
       "      <td>1.114231e+08</td>\n",
       "      <td>1.024887e+09</td>\n",
       "      <td>32013.851530</td>\n",
       "    </tr>\n",
       "  </tbody>\n",
       "</table>\n",
       "</div>"
      ],
      "text/plain": [
       "    popularity original_title  runtime           genres release_date  \\\n",
       "id                                                                     \n",
       "5     1.234890     Four Rooms       98           Comedy     12/25/95   \n",
       "11   12.037933      Star Wars      121        Adventure      3/20/77   \n",
       "11   12.037933      Star Wars      121           Action      3/20/77   \n",
       "11   12.037933      Star Wars      121  Science Fiction      3/20/77   \n",
       "12    3.440519   Finding Nemo      100        Animation      5/30/03   \n",
       "\n",
       "    vote_count  vote_average  release_year    budget_adj   revenue_adj  \\\n",
       "id                                                                       \n",
       "5          293           6.4          1995  5.723867e+06  6.153158e+06   \n",
       "11        4428           7.9          1977  3.957559e+07  2.789712e+09   \n",
       "11        4428           7.9          1977  3.957559e+07  2.789712e+09   \n",
       "11        4428           7.9          1977  3.957559e+07  2.789712e+09   \n",
       "12        3692           7.4          2003  1.114231e+08  1.024887e+09   \n",
       "\n",
       "    rev_adj_root  \n",
       "id                \n",
       "5    2480.555891  \n",
       "11  52817.726591  \n",
       "11  52817.726591  \n",
       "11  52817.726591  \n",
       "12  32013.851530  "
      ]
     },
     "execution_count": 61,
     "metadata": {},
     "output_type": "execute_result"
    }
   ],
   "source": [
    "df1 = df1.explode('genres')\n",
    "df1.head()"
   ]
  },
  {
   "cell_type": "markdown",
   "metadata": {},
   "source": [
    "Perfect, now lets take the average of the results as movies will have multiple instances.\n",
    "\n",
    "Let's check popularity and revenue"
   ]
  },
  {
   "cell_type": "code",
   "execution_count": 62,
   "metadata": {
    "scrolled": false
   },
   "outputs": [],
   "source": [
    "df1_genere_pop = df1.groupby(['genres'],as_index=False)['popularity'].mean().sort_values(by=['popularity'])\n",
    "df1_genere_pop;"
   ]
  },
  {
   "cell_type": "markdown",
   "metadata": {},
   "source": [
    "No \"unknown\" genre, suggesting they were eliminated when the data was cleaned from earlier.\n",
    "\n",
    "Let's visualise the results"
   ]
  },
  {
   "cell_type": "code",
   "execution_count": 63,
   "metadata": {
    "scrolled": true
   },
   "outputs": [
    {
     "data": {
      "image/png": "[encoded data removed]",
      "text/plain": [
       "<matplotlib.figure.Figure at 0x7f8b513764e0>"
      ]
     },
     "metadata": {
      "needs_background": "light"
     },
     "output_type": "display_data"
    }
   ],
   "source": [
    "plt.barh(df1_genere_pop['genres'],df1_genere_pop['popularity'],color=\"green\",label='popularity')\n",
    "plt.title('Popularity of Movie genres by users')\n",
    "plt.legend();\n",
    "plt.xlabel('Mean user popularity')\n",
    "plt.ylabel('Movie Genre');"
   ]
  },
  {
   "cell_type": "markdown",
   "metadata": {},
   "source": [
    "Adjusted revenue vs Genre\n",
    "\n",
    "Can clearly see the most popular genres are: Science Fiction, Animation, Adventure, Fantasy and Family.\n",
    "\n",
    "The genres that aren't popular are: Documentary, Foreign, TV Movie."
   ]
  },
  {
   "cell_type": "code",
   "execution_count": 64,
   "metadata": {
    "scrolled": false
   },
   "outputs": [],
   "source": [
    "df1_genere_rev = df1.groupby(['genres'],as_index=False)['revenue_adj'].mean().sort_values(by=['revenue_adj'])\n",
    "df1_genere_rev;"
   ]
  },
  {
   "cell_type": "code",
   "execution_count": 65,
   "metadata": {
    "scrolled": true
   },
   "outputs": [
    {
     "data": {
      "image/png": "[encoded data removed]",
      "text/plain": [
       "<matplotlib.figure.Figure at 0x7f8b5138f3c8>"
      ]
     },
     "metadata": {
      "needs_background": "light"
     },
     "output_type": "display_data"
    }
   ],
   "source": [
    "plt.barh(df1_genere_rev['genres'],df1_genere_rev['revenue_adj'],color=\"green\",label='popularity')\n",
    "plt.title('Mean adjusted revenue of Movie genres')\n",
    "plt.legend();\n",
    "plt.xlabel('Mean Revenue')\n",
    "plt.ylabel('Movie Genre');"
   ]
  },
  {
   "cell_type": "markdown",
   "metadata": {},
   "source": [
    "The mean revenue figure shows some genres generate more revenue than others: Animation, Fantasy, Family, Adventure. Science fiction and action aren't as high as the others.\n",
    "\n",
    "Some genres typically underperform: Foreign and documentary. Tv movie does slightly better.\n",
    "\n",
    "Comparing popularity and revenue by genre we can see the similarities. If a movie genre is popular, it will likely also have a higher adjusted revenue.\n"
   ]
  },
  {
   "cell_type": "markdown",
   "metadata": {},
   "source": [
    "<a id='conclusions'></a>\n",
    "## Conclusions\n",
    "A correlation between popularity and revenue was first identified.\n",
    "When analysing the genres of the movies a clear pattern was observed, where certain genres were both popular and generated more revenue. This not only reinforced the findings in the first question but also highlighted the inequality of revenue generated by certain genres vs others (most notably Animation vs Foreign).\n",
    "Overall the data set provided pleanty of analysis, but further work can also be done.\n",
    "\n",
    "\n",
    "- Aditional research could be done to identify the profits (revenue-budget). Although the budget may not necessarily be the exact cost spent, it could be very useful to assume the adjusted budget = budget used.\n",
    "Further work could also be done in identifying if the run time of a movie increases or decreases the popularity of a film (i.e. too long/ short may decrease popularity).\n",
    "\n",
    "- It should be noted that the data itself it outdated and does not account for movies beyond 2015. New data may contradict the results. Furthermore, many assumptions were made to remove data with 0 values in adjusted revenue/ budget columns, it maybe possible these films did make 0 revenue although unlikely.\n",
    "If this work would be repeated, statistical tests should be done as well, such as using pearson correlation coefficients, to further test if the line of best fits are suitable.\n"
   ]
  },
  {
   "cell_type": "code",
   "execution_count": 66,
   "metadata": {
    "scrolled": true
   },
   "outputs": [
    {
     "data": {
      "text/plain": [
       "0"
      ]
     },
     "execution_count": 66,
     "metadata": {},
     "output_type": "execute_result"
    }
   ],
   "source": [
    "from subprocess import call\n",
    "call(['python', '-m', 'nbconvert', 'Investigate_a_Dataset.ipynb'])"
   ]
  }
 ],
 "metadata": {
  "kernelspec": {
   "display_name": "Python 3",
   "language": "python",
   "name": "python3"
  },
  "language_info": {
   "codemirror_mode": {
    "name": "ipython",
    "version": 3
   },
   "file_extension": ".py",
   "mimetype": "text/x-python",
   "name": "python",
   "nbconvert_exporter": "python",
   "pygments_lexer": "ipython3",
   "version": "3.6.3"
  }
 },
 "nbformat": 4,
 "nbformat_minor": 2
}
